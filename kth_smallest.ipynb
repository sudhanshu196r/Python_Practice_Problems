{
 "cells": [
  {
   "cell_type": "code",
   "execution_count": 1,
   "metadata": {},
   "outputs": [
    {
     "data": {
      "text/plain": [
       "'\\n    @Author: Sudhanshu Kumar\\n    @Date: 25-11-2024\\n    @Last Modified by: Sudhanshu Kumar\\n    @Last Modified time: 25-11-2024\\n    @Title : Python program to find kth smallest integer in a array\\n\\n'"
      ]
     },
     "execution_count": 1,
     "metadata": {},
     "output_type": "execute_result"
    }
   ],
   "source": [
    "'''\n",
    "    @Author: Sudhanshu Kumar\n",
    "    @Date: 25-11-2024\n",
    "    @Last Modified by: Sudhanshu Kumar\n",
    "    @Last Modified time: 25-11-2024\n",
    "    @Title : Python program to find kth smallest integer in a array\n",
    "\n",
    "'''"
   ]
  },
  {
   "cell_type": "code",
   "execution_count": 2,
   "metadata": {},
   "outputs": [],
   "source": [
    "def kth_small(arr,k):\n",
    "    \"\"\"\n",
    "    Description: \n",
    "        Function to find the kth smallest integer\n",
    "    Parameters:\n",
    "        arr: array of integers\n",
    "        k: kth smallest element\n",
    "    Returns:\n",
    "        kth smallest integer\n",
    "\n",
    "    \"\"\"\n",
    "    ans_set = set(arr)\n",
    "    ans_arr = sorted(ans_set)\n",
    "    return ans_arr[k-1]\n",
    "\n"
   ]
  },
  {
   "cell_type": "code",
   "execution_count": 3,
   "metadata": {},
   "outputs": [],
   "source": [
    "def main():\n",
    "    arr = [1,2,3,4,5,6,9,7,8,8]\n",
    "    k=7\n",
    "    print(kth_small(arr,k))\n"
   ]
  },
  {
   "cell_type": "code",
   "execution_count": 4,
   "metadata": {},
   "outputs": [
    {
     "name": "stdout",
     "output_type": "stream",
     "text": [
      "7\n"
     ]
    }
   ],
   "source": [
    "if __name__==\"__main__\":\n",
    "    main()"
   ]
  }
 ],
 "metadata": {
  "kernelspec": {
   "display_name": "Python 3",
   "language": "python",
   "name": "python3"
  },
  "language_info": {
   "codemirror_mode": {
    "name": "ipython",
    "version": 3
   },
   "file_extension": ".py",
   "mimetype": "text/x-python",
   "name": "python",
   "nbconvert_exporter": "python",
   "pygments_lexer": "ipython3",
   "version": "3.9.13"
  }
 },
 "nbformat": 4,
 "nbformat_minor": 2
}
