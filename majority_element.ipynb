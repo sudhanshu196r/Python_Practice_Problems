{
 "cells": [
  {
   "cell_type": "code",
   "execution_count": 1,
   "metadata": {},
   "outputs": [
    {
     "data": {
      "text/plain": [
       "'\\n    @Author: Sudhanshu Kumar\\n    @Date: 24-11-2024\\n    @Last Modified by: Sudhanshu Kumar\\n    @Last Modified time: 24-11-2024\\n    @Title : Python program to find the majority element\\n\\n'"
      ]
     },
     "execution_count": 1,
     "metadata": {},
     "output_type": "execute_result"
    }
   ],
   "source": [
    "'''\n",
    "    @Author: Sudhanshu Kumar\n",
    "    @Date: 24-11-2024\n",
    "    @Last Modified by: Sudhanshu Kumar\n",
    "    @Last Modified time: 24-11-2024\n",
    "    @Title : Python program to find the majority element\n",
    "\n",
    "'''"
   ]
  },
  {
   "cell_type": "code",
   "execution_count": null,
   "metadata": {},
   "outputs": [],
   "source": [
    "def majority(arr):\n",
    "    maj = {}\n",
    "    max = -1\n",
    "    max_ele = -1\n",
    "    for i in range(len(arr)):\n",
    "        if arr[i] in maj.keys():\n",
    "            maj[arr[i]]+=1\n",
    "            if maj[arr[i]]>max:\n",
    "                max = maj[arr[i]]\n",
    "                max_ele = arr[i]\n",
    "        else:\n",
    "            maj[arr[i]] = 1\n",
    "\n",
    "    return max_ele\n",
    "        \n",
    "            \n",
    "        "
   ]
  },
  {
   "cell_type": "code",
   "execution_count": 3,
   "metadata": {},
   "outputs": [],
   "source": [
    "def main():\n",
    "    arr = [1,2,3,4,2,3,4,2,3,6,4,3,4,4]\n",
    "    print(majority(arr))"
   ]
  },
  {
   "cell_type": "code",
   "execution_count": 4,
   "metadata": {},
   "outputs": [
    {
     "name": "stdout",
     "output_type": "stream",
     "text": [
      "3\n"
     ]
    }
   ],
   "source": [
    "if __name__==\"__main__\":\n",
    "    main()"
   ]
  }
 ],
 "metadata": {
  "kernelspec": {
   "display_name": "Python 3",
   "language": "python",
   "name": "python3"
  },
  "language_info": {
   "codemirror_mode": {
    "name": "ipython",
    "version": 3
   },
   "file_extension": ".py",
   "mimetype": "text/x-python",
   "name": "python",
   "nbconvert_exporter": "python",
   "pygments_lexer": "ipython3",
   "version": "3.9.13"
  }
 },
 "nbformat": 4,
 "nbformat_minor": 2
}
