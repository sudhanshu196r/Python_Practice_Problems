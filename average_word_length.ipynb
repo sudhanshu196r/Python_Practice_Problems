{
 "cells": [
  {
   "cell_type": "code",
   "execution_count": 29,
   "metadata": {},
   "outputs": [
    {
     "data": {
      "text/plain": [
       "'\\n    @Author: Sudhanshu Kumar\\n    @Date: 24--11-2024\\n    @Last Modified by: Sudhanshu Kumar\\n    @Last Modified time: 24-11-2024\\n    @Title : Find the average word length in a sentence\\n\\n'"
      ]
     },
     "execution_count": 29,
     "metadata": {},
     "output_type": "execute_result"
    }
   ],
   "source": [
    "'''\n",
    "    @Author: Sudhanshu Kumar\n",
    "    @Date: 24--11-2024\n",
    "    @Last Modified by: Sudhanshu Kumar\n",
    "    @Last Modified time: 24-11-2024\n",
    "    @Title : Find the average word length in a sentence\n",
    "\n",
    "'''"
   ]
  },
  {
   "cell_type": "code",
   "execution_count": 30,
   "metadata": {},
   "outputs": [],
   "source": [
    "def count_word_length(sentence):\n",
    "    word_count = 0\n",
    "    sum_length_words = 0\n",
    "    for l in sentence:\n",
    "        if l>='A' and l<='Z' or l>='a' and l<='z':\n",
    "            sum_length_words+=1\n",
    "        else:\n",
    "            word_count+=1\n",
    "\n",
    "    return sum_length_words/word_count\n",
    "    "
   ]
  },
  {
   "cell_type": "code",
   "execution_count": 31,
   "metadata": {},
   "outputs": [],
   "source": [
    "def main():\n",
    "    sentence = \"Hello how are you doing?\"\n",
    "    print(f\"Average word length:  {count_word_length(sentence)}\")\n"
   ]
  },
  {
   "cell_type": "code",
   "execution_count": 32,
   "metadata": {},
   "outputs": [
    {
     "name": "stdout",
     "output_type": "stream",
     "text": [
      "Average word length:  3.8\n"
     ]
    }
   ],
   "source": [
    "if __name__==\"__main__\":\n",
    "    main()"
   ]
  }
 ],
 "metadata": {
  "kernelspec": {
   "display_name": "Python 3",
   "language": "python",
   "name": "python3"
  },
  "language_info": {
   "codemirror_mode": {
    "name": "ipython",
    "version": 3
   },
   "file_extension": ".py",
   "mimetype": "text/x-python",
   "name": "python",
   "nbconvert_exporter": "python",
   "pygments_lexer": "ipython3",
   "version": "3.9.13"
  }
 },
 "nbformat": 4,
 "nbformat_minor": 2
}
